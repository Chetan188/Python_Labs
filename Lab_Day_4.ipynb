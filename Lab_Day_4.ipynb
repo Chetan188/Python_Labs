{
  "nbformat": 4,
  "nbformat_minor": 0,
  "metadata": {
    "colab": {
      "provenance": [],
      "authorship_tag": "ABX9TyPWQJMfGciQRDuoHi32qVZJ",
      "include_colab_link": true
    },
    "kernelspec": {
      "name": "python3",
      "display_name": "Python 3"
    },
    "language_info": {
      "name": "python"
    }
  },
  "cells": [
    {
      "cell_type": "markdown",
      "metadata": {
        "id": "view-in-github",
        "colab_type": "text"
      },
      "source": [
        "<a href=\"https://colab.research.google.com/github/Chetan188/Python_Labs/blob/main/Lab_Day_4.ipynb\" target=\"_parent\"><img src=\"https://colab.research.google.com/assets/colab-badge.svg\" alt=\"Open In Colab\"/></a>"
      ]
    },
    {
      "cell_type": "markdown",
      "source": [
        "Q.1 Python program to check leap year."
      ],
      "metadata": {
        "id": "B5zRDKPMgWSj"
      }
    },
    {
      "cell_type": "code",
      "source": [
        "year=int(input(\"Enter a year:\"))\n",
        "if(year%4==0 ):\n",
        "  print(year,\"is a leap year.\")\n",
        "else :\n",
        "  print(year,\"is not a leap year.\")\n"
      ],
      "metadata": {
        "id": "9bTlmK3EjnhZ",
        "colab": {
          "base_uri": "https://localhost:8080/"
        },
        "outputId": "6ad15ac5-fc59-45fe-e05e-6bc57e1d1409"
      },
      "execution_count": null,
      "outputs": [
        {
          "output_type": "stream",
          "name": "stdout",
          "text": [
            "Enter a year:2024\n",
            "2024 is a leap year.\n"
          ]
        }
      ]
    },
    {
      "cell_type": "markdown",
      "source": [
        "Q.2 Python Program to Find the Largest Among Three Numbers.\n"
      ],
      "metadata": {
        "id": "RKeAgTV7goxT"
      }
    },
    {
      "cell_type": "code",
      "source": [
        "def largest_number(a, b, c):\n",
        "    if a >= b and a >= c:\n",
        "        return a\n",
        "    elif b >= a and b >= c:\n",
        "        return b\n",
        "    else:\n",
        "        return c\n",
        "\n",
        "a = float(input(\"Enter first number: \"))\n",
        "b = float(input(\"Enter second number: \"))\n",
        "c = float(input(\"Enter third number: \"))\n",
        "largest = largest_number(a, b, c)\n",
        "print(\"The largest number is\", largest)\n"
      ],
      "metadata": {
        "colab": {
          "base_uri": "https://localhost:8080/"
        },
        "id": "88CCPqn-giBU",
        "outputId": "6779f254-b28e-436e-bf91-bce05beed9e6"
      },
      "execution_count": null,
      "outputs": [
        {
          "output_type": "stream",
          "name": "stdout",
          "text": [
            "Enter first number: 18\n",
            "Enter second number: 45\n",
            "Enter third number: 7\n",
            "The largest number is 45.0\n"
          ]
        }
      ]
    },
    {
      "cell_type": "markdown",
      "source": [
        "Q.3 Python Program to Check if a Number is Positive, Negative or 0."
      ],
      "metadata": {
        "id": "uC_-MIj2g2mJ"
      }
    },
    {
      "cell_type": "code",
      "source": [
        "num = float(input(\"Enter a number: \"))\n",
        "if num > 0:\n",
        "  print(\"The number is positive\")\n",
        "elif num < 0:\n",
        "  print(\"The number is negative\")\n",
        "else:\n",
        "  print(\"zero\")"
      ],
      "metadata": {
        "colab": {
          "base_uri": "https://localhost:8080/"
        },
        "id": "aIslMEwjgxH2",
        "outputId": "639a8578-03b8-4e8c-d5f8-766a2c1b6f29"
      },
      "execution_count": null,
      "outputs": [
        {
          "output_type": "stream",
          "name": "stdout",
          "text": [
            "Enter a number: 7\n",
            "The number is positive\n"
          ]
        }
      ]
    },
    {
      "cell_type": "markdown",
      "source": [
        "Q.4 A toy vendor supplies three types of toys: Battery Based Toys, Key-based Toys, and Electrical Charging Based Toys. The vendor gives a discount of 10% on orders for battery-based toys if the order is for more than Rs. 1000. On orders of more than Rs. 100 for key-based toys, a discount of 5% is given, and a discount of 10% is given on orders for electrical charging based toys of value more than Rs. 500. Assume that the numeric codes 1,2 and 3 are used for battery based toys, key-based toys, and electrical charging based toys respectively. Write a program that reads the product code and the order amount and prints out the net amount that the customer is required to pay after the discount."
      ],
      "metadata": {
        "id": "JLlVegZihIlC"
      }
    },
    {
      "cell_type": "code",
      "source": [
        "def calculate_discount(product_code, order_amount):\n",
        "    discount = 0\n",
        "\n",
        "    # Check the product type and apply discount based on the order amount\n",
        "    if product_code == 1:  # Battery-based toys\n",
        "        if order_amount > 1000:\n",
        "            discount = 0.10  # 10% discount\n",
        "    elif product_code == 2:  # Key-based toys\n",
        "        if order_amount > 100:\n",
        "            discount = 0.05  # 5% discount\n",
        "    elif product_code == 3:  # Electrical charging-based toys\n",
        "        if order_amount > 500:\n",
        "            discount = 0.10  # 10% discount\n",
        "\n",
        "    # Calculate net amount after applying the discount\n",
        "    net_amount = order_amount - (order_amount * discount)\n",
        "    return net_amount\n",
        "\n",
        "# Read user inputs\n",
        "product_code = int(input(\"Enter product code (1 for Battery-based, 2 for Key-based, 3 for Electrical Charging-based): \"))\n",
        "order_amount = float(input(\"Enter the order amount: \"))\n",
        "\n",
        "# Calculate the net amount\n",
        "net_amount = calculate_discount(product_code, order_amount)\n",
        "\n",
        "# Display the result\n",
        "print(f\"The net amount to be paid after discount is: Rs. {net_amount:.2f}\")\n"
      ],
      "metadata": {
        "colab": {
          "base_uri": "https://localhost:8080/"
        },
        "id": "GLWxOZLag-LB",
        "outputId": "b6461b5f-be4e-45d8-9764-8cd2cd27fca1"
      },
      "execution_count": null,
      "outputs": [
        {
          "output_type": "stream",
          "name": "stdout",
          "text": [
            "Enter product code (1 for Battery-based, 2 for Key-based, 3 for Electrical Charging-based): 1\n",
            "Enter the order amount: 1500\n",
            "The net amount to be paid after discount is: Rs. 1350.00\n"
          ]
        }
      ]
    },
    {
      "cell_type": "markdown",
      "source": [
        "Q.5 A transport company charges the fare according to following table:\n",
        "Distance        Charges\n",
        "1-50            8 Rs./Km\n",
        "51-100         10 Rs./Km\n",
        "100            12 Rs/Km\n",
        "Write a python program to calculate the transport distance entered by user."
      ],
      "metadata": {
        "id": "X69HQN9nh9u2"
      }
    },
    {
      "cell_type": "code",
      "source": [
        "def FindTransportDistance(distance):\n",
        "    if distance <= 50:\n",
        "        return 8 * distance\n",
        "    elif distance <= 100:\n",
        "        return 10 * distance\n",
        "    else:\n",
        "        return 12 * distance\n",
        "distance = float(input(\"Enter the distance: \"))\n",
        "fare = FindTransportDistance(distance)\n",
        "print(\"The fare for the distance of\", distance, \"kilometers is Rs.\", fare)"
      ],
      "metadata": {
        "colab": {
          "base_uri": "https://localhost:8080/"
        },
        "id": "xizX8dPNhovl",
        "outputId": "daef0fcd-6b77-470b-8ffb-236f369f00a3"
      },
      "execution_count": null,
      "outputs": [
        {
          "output_type": "stream",
          "name": "stdout",
          "text": [
            "Enter the distance: 50\n",
            "The fare for the distance of 50.0 kilometers is Rs. 400.0\n"
          ]
        }
      ]
    }
  ]
}