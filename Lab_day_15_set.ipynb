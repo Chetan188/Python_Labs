{
  "nbformat": 4,
  "nbformat_minor": 0,
  "metadata": {
    "colab": {
      "provenance": [],
      "authorship_tag": "ABX9TyPLSYq8B5n4O++yulJMJODl",
      "include_colab_link": true
    },
    "kernelspec": {
      "name": "python3",
      "display_name": "Python 3"
    },
    "language_info": {
      "name": "python"
    }
  },
  "cells": [
    {
      "cell_type": "markdown",
      "metadata": {
        "id": "view-in-github",
        "colab_type": "text"
      },
      "source": [
        "<a href=\"https://colab.research.google.com/github/Chetan188/Python_Labs/blob/main/Lab_day_15_set.ipynb\" target=\"_parent\"><img src=\"https://colab.research.google.com/assets/colab-badge.svg\" alt=\"Open In Colab\"/></a>"
      ]
    },
    {
      "cell_type": "markdown",
      "source": [
        "Q .1. Write a Python program to Get Only unique items from two sets."
      ],
      "metadata": {
        "id": "IHzrAsaW7rel"
      }
    },
    {
      "cell_type": "code",
      "execution_count": null,
      "metadata": {
        "colab": {
          "base_uri": "https://localhost:8080/"
        },
        "id": "LKqgalpv7qEk",
        "outputId": "29db4dda-537e-4051-c837-1bca47b010aa"
      },
      "outputs": [
        {
          "output_type": "stream",
          "name": "stdout",
          "text": [
            "{70, 40, 10, 50, 20, 60, 30}\n"
          ]
        }
      ],
      "source": [
        "set1 = {10, 20, 30, 40, 50}\n",
        "set2 = {30, 40, 50, 60, 70}\n",
        "unique_items = set1.union(set2)\n",
        "print(unique_items)"
      ]
    },
    {
      "cell_type": "markdown",
      "source": [
        "Q 2. Write a Python program to Return a set of elements present in Set A or B, but not both."
      ],
      "metadata": {
        "id": "x8o97XgH8BT7"
      }
    },
    {
      "cell_type": "code",
      "source": [
        "set1 = {10, 20, 30, 40, 50}\n",
        "set2 = {30, 40, 50, 60, 70}\n",
        "res = set1.symmetric_difference(set2)\n",
        "print(res)"
      ],
      "metadata": {
        "colab": {
          "base_uri": "https://localhost:8080/"
        },
        "id": "asadUFh27-s0",
        "outputId": "43029ea5-79bf-43e7-96e5-84bdae8cac7c"
      },
      "execution_count": null,
      "outputs": [
        {
          "output_type": "stream",
          "name": "stdout",
          "text": [
            "{20, 70, 10, 60}\n"
          ]
        }
      ]
    },
    {
      "cell_type": "markdown",
      "source": [
        "Q. 3. Write a Python program to Check if two sets have any elements in common. If yes, display the common elements."
      ],
      "metadata": {
        "id": "5ckUNZ-j8Vu0"
      }
    },
    {
      "cell_type": "code",
      "source": [
        "set1 = {10, 20, 30, 40, 50}\n",
        "set2 = {60, 70, 80, 90, 10}\n",
        "common_elements = set1.intersection(set2)\n",
        "if common_elements:\n",
        "    print(\"The common elements are:\", common_elements)\n",
        "else:\n",
        "    print(\"There are no common elements between the two sets.\")"
      ],
      "metadata": {
        "colab": {
          "base_uri": "https://localhost:8080/"
        },
        "id": "8yxpROVm8SI3",
        "outputId": "9fe455ca-d361-4ebe-9b5f-3c4d4d40e517"
      },
      "execution_count": null,
      "outputs": [
        {
          "output_type": "stream",
          "name": "stdout",
          "text": [
            "The common elements are: {10}\n"
          ]
        }
      ]
    },
    {
      "cell_type": "markdown",
      "source": [
        "Q .4. Write a Python program to Remove items from set1 that are not common to both set1 and set2."
      ],
      "metadata": {
        "id": "UtjwQJU28sPq"
      }
    },
    {
      "cell_type": "code",
      "source": [
        " set1 = {10, 20, 30, 40, 50}\n",
        " set2 = {30, 40, 50, 60, 70}\n",
        " set1.intersection_update(set2)\n",
        " print(set1)"
      ],
      "metadata": {
        "colab": {
          "base_uri": "https://localhost:8080/"
        },
        "id": "Ql5kq8ZM8pDs",
        "outputId": "24e2e1ea-3090-4f4e-d4fe-96e6c5e057a9"
      },
      "execution_count": null,
      "outputs": [
        {
          "output_type": "stream",
          "name": "stdout",
          "text": [
            "{40, 50, 30}\n"
          ]
        }
      ]
    }
  ]
}