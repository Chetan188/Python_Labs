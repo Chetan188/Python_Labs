{
  "nbformat": 4,
  "nbformat_minor": 0,
  "metadata": {
    "colab": {
      "provenance": [],
      "authorship_tag": "ABX9TyPQza9pKq+9boTp5GUOjRSe",
      "include_colab_link": true
    },
    "kernelspec": {
      "name": "python3",
      "display_name": "Python 3"
    },
    "language_info": {
      "name": "python"
    }
  },
  "cells": [
    {
      "cell_type": "markdown",
      "metadata": {
        "id": "view-in-github",
        "colab_type": "text"
      },
      "source": [
        "<a href=\"https://colab.research.google.com/github/Chetan188/Python_Labs/blob/main/Lab_Day_11.ipynb\" target=\"_parent\"><img src=\"https://colab.research.google.com/assets/colab-badge.svg\" alt=\"Open In Colab\"/></a>"
      ]
    },
    {
      "cell_type": "markdown",
      "source": [
        "Q.1. Write a Python program to handle a ZeroDivisionError exception when dividing a number by zero."
      ],
      "metadata": {
        "id": "9sFu7Y_sIcYx"
      }
    },
    {
      "cell_type": "code",
      "source": [
        "try:\n",
        "    numerator = float(input(\"Enter the numerator: \"))\n",
        "    denominator = float(input(\"Enter the denominator: \"))\n",
        "    result = numerator / denominator\n",
        "    print(\"Result:\", result)\n",
        "except ZeroDivisionError:\n",
        "    print(\"Error: Division by zero is not allowed.\")"
      ],
      "metadata": {
        "colab": {
          "base_uri": "https://localhost:8080/"
        },
        "id": "5D4e8HfHIWSH",
        "outputId": "48b2bfa2-ef15-4042-cb71-57ce1213ce25"
      },
      "execution_count": null,
      "outputs": [
        {
          "output_type": "stream",
          "name": "stdout",
          "text": [
            "Enter the numerator: 23\n",
            "Enter the denominator: 0\n",
            "Error: Division by zero is not allowed.\n"
          ]
        }
      ]
    },
    {
      "cell_type": "markdown",
      "source": [
        "Q.2. Write a Python program that prompts the user to input an integer and raises a ValueError exception if the input is not a valid integer."
      ],
      "metadata": {
        "id": "xYaY5H2iN1KS"
      }
    },
    {
      "cell_type": "code",
      "source": [
        "try:\n",
        "    user_input = input(\"Enter an integer: \")\n",
        "    integer_value = int(user_input)\n",
        "    print(\"Valid integer:\", integer_value)\n",
        "except ValueError as e:\n",
        "    print(e)"
      ],
      "metadata": {
        "colab": {
          "base_uri": "https://localhost:8080/"
        },
        "id": "sUztXUQQJ0qf",
        "outputId": "5fa9e473-7e2c-408f-80ef-deb0ccf28056"
      },
      "execution_count": null,
      "outputs": [
        {
          "output_type": "stream",
          "name": "stdout",
          "text": [
            "Enter an integer: a\n",
            "invalid literal for int() with base 10: 'a'\n"
          ]
        }
      ]
    },
    {
      "cell_type": "markdown",
      "source": [
        "Q.3. Write a Python program that opens a file and handles a FileNotFoundError exception if the file does not exist."
      ],
      "metadata": {
        "id": "odiBvSsGNUVp"
      }
    },
    {
      "cell_type": "code",
      "source": [
        "try:\n",
        "    filename = input(\"Enter the filename: \")\n",
        "    with open(filename, 'r') as file:\n",
        "        contents = file.read()\n",
        "        print(contents)\n",
        "except FileNotFoundError:\n",
        "    print(f\"Error: File '{filename}' not found.\")"
      ],
      "metadata": {
        "colab": {
          "base_uri": "https://localhost:8080/"
        },
        "id": "EtIBlMO6KS8b",
        "outputId": "ddd083b2-e47e-4251-c077-c4701a5a1bd9"
      },
      "execution_count": null,
      "outputs": [
        {
          "output_type": "stream",
          "name": "stdout",
          "text": [
            "Enter the filename: xyz\n",
            "Error: File 'xyz' not found.\n"
          ]
        }
      ]
    },
    {
      "cell_type": "markdown",
      "source": [
        "Q.4 Write a Python program that prompts the user to input two numbers and raises a TypeError exception if the inputs are not numerical"
      ],
      "metadata": {
        "id": "lOLnCXu_LNGj"
      }
    },
    {
      "cell_type": "code",
      "source": [
        "def input_numbers():\n",
        "    try:\n",
        "        a = input(\"Enter the first number: \")\n",
        "        b = input(\"Enter the second number: \")\n",
        "        a = float(a)\n",
        "        b = float(b)\n",
        "        print(\"First number:\", a)\n",
        "        print(\"Second number:\", b)\n",
        "    except ValueError:\n",
        "        raise TypeError(\"The inputs are not numerical.\")\n",
        "\n",
        "try:\n",
        "    input_numbers()\n",
        "except TypeError as e:\n",
        "  print(e)\n"
      ],
      "metadata": {
        "colab": {
          "base_uri": "https://localhost:8080/"
        },
        "id": "e3bK87u7LQCg",
        "outputId": "976518ec-7da0-4dc4-82f1-0690c1854e8e"
      },
      "execution_count": null,
      "outputs": [
        {
          "output_type": "stream",
          "name": "stdout",
          "text": [
            "Enter the first number: a\n",
            "Enter the second number: 5\n",
            "The inputs are not numerical.\n"
          ]
        }
      ]
    }
  ]
}