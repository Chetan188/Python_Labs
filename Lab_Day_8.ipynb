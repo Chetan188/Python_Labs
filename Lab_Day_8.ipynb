{
  "nbformat": 4,
  "nbformat_minor": 0,
  "metadata": {
    "colab": {
      "provenance": [],
      "authorship_tag": "ABX9TyM3Ohceam4y+vXsuDFSWU+Q",
      "include_colab_link": true
    },
    "kernelspec": {
      "name": "python3",
      "display_name": "Python 3"
    },
    "language_info": {
      "name": "python"
    }
  },
  "cells": [
    {
      "cell_type": "markdown",
      "metadata": {
        "id": "view-in-github",
        "colab_type": "text"
      },
      "source": [
        "<a href=\"https://colab.research.google.com/github/Chetan188/Python_Labs/blob/main/Lab_Day_8.ipynb\" target=\"_parent\"><img src=\"https://colab.research.google.com/assets/colab-badge.svg\" alt=\"Open In Colab\"/></a>"
      ]
    },
    {
      "cell_type": "markdown",
      "source": [
        "Q 1. Write a Python program to count the occurrences of each word in a given sentence"
      ],
      "metadata": {
        "id": "8Dl8eTf9fMA3"
      }
    },
    {
      "cell_type": "code",
      "source": [
        "string = \"To change the overall look of your document. To change the look available in the gallery\"\n",
        "\n",
        "words = string.split()\n",
        "word_count = {}\n",
        "\n",
        "for word in words:\n",
        "    if word in word_count:\n",
        "        word_count[word] += 1\n",
        "    else:\n",
        "        word_count[word] = 1\n",
        "\n",
        "print(word_count)"
      ],
      "metadata": {
        "colab": {
          "base_uri": "https://localhost:8080/"
        },
        "id": "X7ATztC9fqXq",
        "outputId": "6a7f0cbb-603f-4248-b97c-e8943a87b124"
      },
      "execution_count": null,
      "outputs": [
        {
          "output_type": "stream",
          "name": "stdout",
          "text": [
            "{'To': 2, 'change': 2, 'the': 3, 'overall': 1, 'look': 2, 'of': 1, 'your': 1, 'document.': 1, 'available': 1, 'in': 1, 'gallery': 1}\n"
          ]
        }
      ]
    },
    {
      "cell_type": "markdown",
      "source": [
        "Q 2. Write a Python program to remove a newline in Python"
      ],
      "metadata": {
        "id": "dmgjTqX0gXXA"
      }
    },
    {
      "cell_type": "code",
      "source": [
        "#2. Write a Python program to remove a newline in Python\n",
        "String = '\\nBest \\nDeeptech \\nPython \\nTraining \\n'\n",
        "String.replace('\\n','')"
      ],
      "metadata": {
        "colab": {
          "base_uri": "https://localhost:8080/",
          "height": 36
        },
        "id": "KiR8jTGDgd2k",
        "outputId": "1cd0fc0d-2de8-4cf1-c1b3-207a4dfc5d71"
      },
      "execution_count": null,
      "outputs": [
        {
          "output_type": "execute_result",
          "data": {
            "text/plain": [
              "'Best Deeptech Python Training '"
            ],
            "application/vnd.google.colaboratory.intrinsic+json": {
              "type": "string"
            }
          },
          "metadata": {},
          "execution_count": 6
        }
      ]
    },
    {
      "cell_type": "markdown",
      "source": [
        "Q 3. Write a Python program to reverse words in a string"
      ],
      "metadata": {
        "id": "0YGQoTzWg9_7"
      }
    },
    {
      "cell_type": "code",
      "source": [
        "  String = \"Deeptech Python Training\"\n",
        "reversed_String=String.split()[::-1]\n",
        "reversed_String"
      ],
      "metadata": {
        "colab": {
          "base_uri": "https://localhost:8080/"
        },
        "id": "-TFqWN5qhBFw",
        "outputId": "9314232e-09c5-4a22-de4b-c4f7a323a8d5"
      },
      "execution_count": null,
      "outputs": [
        {
          "output_type": "execute_result",
          "data": {
            "text/plain": [
              "['Training', 'Python', 'Deeptech']"
            ]
          },
          "metadata": {},
          "execution_count": 14
        }
      ]
    },
    {
      "cell_type": "markdown",
      "source": [
        "Q 4. Write a Python program to count and display the vowels of a given text"
      ],
      "metadata": {
        "id": "J94agAyiioS9"
      }
    },
    {
      "cell_type": "code",
      "source": [
        "String = \"Welcome to python Training\"\n",
        "vowels = \"aeiou\"\n",
        "count = {}.fromkeys(vowels,0)\n",
        "\n",
        "for char in String:\n",
        "    if char in count:\n",
        "        count[char] += 1\n",
        "\n",
        "print(count)"
      ],
      "metadata": {
        "colab": {
          "base_uri": "https://localhost:8080/"
        },
        "id": "ET09wtG-hW6X",
        "outputId": "cdd57566-bcda-44f6-add9-ca143ecddb3f"
      },
      "execution_count": null,
      "outputs": [
        {
          "output_type": "stream",
          "name": "stdout",
          "text": [
            "{'a': 1, 'e': 2, 'i': 2, 'o': 3, 'u': 0}\n"
          ]
        }
      ]
    }
  ]
}