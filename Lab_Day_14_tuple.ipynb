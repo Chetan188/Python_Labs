{
  "nbformat": 4,
  "nbformat_minor": 0,
  "metadata": {
    "colab": {
      "provenance": [],
      "authorship_tag": "ABX9TyNmEqK1fObXQ5k9usBpE4X3",
      "include_colab_link": true
    },
    "kernelspec": {
      "name": "python3",
      "display_name": "Python 3"
    },
    "language_info": {
      "name": "python"
    }
  },
  "cells": [
    {
      "cell_type": "markdown",
      "metadata": {
        "id": "view-in-github",
        "colab_type": "text"
      },
      "source": [
        "<a href=\"https://colab.research.google.com/github/Chetan188/Python_Labs/blob/main/Lab_Day_14_tuple.ipynb\" target=\"_parent\"><img src=\"https://colab.research.google.com/assets/colab-badge.svg\" alt=\"Open In Colab\"/></a>"
      ]
    },
    {
      "cell_type": "markdown",
      "source": [
        "Q.1. Write a Python program to find the number of times 4 appears in the tuple."
      ],
      "metadata": {
        "id": "dXE1G4L06RmT"
      }
    },
    {
      "cell_type": "code",
      "execution_count": null,
      "metadata": {
        "colab": {
          "base_uri": "https://localhost:8080/"
        },
        "id": "-qgdpIdO6PEM",
        "outputId": "2d429005-cbae-4c73-acd7-d7072e884fb2"
      },
      "outputs": [
        {
          "output_type": "stream",
          "name": "stdout",
          "text": [
            "3\n"
          ]
        }
      ],
      "source": [
        " tuplex = (2, 4, 5, 6, 2, 3, 4, 4, 7 )\n",
        " count = tuplex.count(4)\n",
        " print(count)"
      ]
    },
    {
      "cell_type": "markdown",
      "source": [
        "Q 2.Write a Python program to convert a list to a tuple."
      ],
      "metadata": {
        "id": "HhhrQuCQ6hOE"
      }
    },
    {
      "cell_type": "code",
      "source": [
        " listx = [5, 10, 7, 4, 15, 3]\n",
        " list_to_tuple = tuple(listx)\n",
        " print(list_to_tuple)"
      ],
      "metadata": {
        "colab": {
          "base_uri": "https://localhost:8080/"
        },
        "id": "N50wxWxO6cN7",
        "outputId": "447df57c-4f7f-4589-f969-5a7f3cb3de08"
      },
      "execution_count": null,
      "outputs": [
        {
          "output_type": "stream",
          "name": "stdout",
          "text": [
            "(5, 10, 7, 4, 15, 3)\n"
          ]
        }
      ]
    },
    {
      "cell_type": "markdown",
      "source": [
        "Q.3. Write a Python program to calculate the sum of the numbers in a given tuple."
      ],
      "metadata": {
        "id": "VwvT6t2B6uyB"
      }
    },
    {
      "cell_type": "code",
      "source": [
        "tuples_list = [(1, 2), (3, 4), (5, 6)]\n",
        "result = sum(map(sum, tuples_list))\n",
        "print(result)"
      ],
      "metadata": {
        "colab": {
          "base_uri": "https://localhost:8080/"
        },
        "id": "jy_xQR8a6rjx",
        "outputId": "2307e28f-6a5f-4f89-995b-140fcfc8215f"
      },
      "execution_count": null,
      "outputs": [
        {
          "output_type": "stream",
          "name": "stdout",
          "text": [
            "21\n"
          ]
        }
      ]
    },
    {
      "cell_type": "markdown",
      "source": [
        "Q 4.Write a python program and iterate the given tuples"
      ],
      "metadata": {
        "id": "31bn5xM265jv"
      }
    },
    {
      "cell_type": "code",
      "source": [
        "employee1 = (\"John Doe\", 101, \"Human Resources\", 60000)\n",
        "employee2 = (\"Alice Smith\", 102, \"Marketing\", 55000)\n",
        "employee3 = (\"Bob Johnson\", 103, \"Engineering\", 75000)\n",
        "employees = [employee1, employee2, employee3]\n",
        "for employee in employees:\n",
        "    print(employee)"
      ],
      "metadata": {
        "colab": {
          "base_uri": "https://localhost:8080/"
        },
        "id": "uTUBVxic61Uw",
        "outputId": "d8f73b8e-e7ab-4eee-ef4c-2d445d9cb3d8"
      },
      "execution_count": null,
      "outputs": [
        {
          "output_type": "stream",
          "name": "stdout",
          "text": [
            "('John Doe', 101, 'Human Resources', 60000)\n",
            "('Alice Smith', 102, 'Marketing', 55000)\n",
            "('Bob Johnson', 103, 'Engineering', 75000)\n"
          ]
        }
      ]
    }
  ]
}