{
  "nbformat": 4,
  "nbformat_minor": 0,
  "metadata": {
    "colab": {
      "provenance": [],
      "authorship_tag": "ABX9TyNyOppvCz/lnMqcihwApdfh",
      "include_colab_link": true
    },
    "kernelspec": {
      "name": "python3",
      "display_name": "Python 3"
    },
    "language_info": {
      "name": "python"
    }
  },
  "cells": [
    {
      "cell_type": "markdown",
      "metadata": {
        "id": "view-in-github",
        "colab_type": "text"
      },
      "source": [
        "<a href=\"https://colab.research.google.com/github/Chetan188/Python_Labs/blob/main/Lab_Day_6.ipynb\" target=\"_parent\"><img src=\"https://colab.research.google.com/assets/colab-badge.svg\" alt=\"Open In Colab\"/></a>"
      ]
    },
    {
      "cell_type": "markdown",
      "source": [
        "Q.1 Write a python program to reverse a number using a while loop"
      ],
      "metadata": {
        "id": "tsutvZTEocit"
      }
    },
    {
      "cell_type": "code",
      "execution_count": null,
      "metadata": {
        "colab": {
          "base_uri": "https://localhost:8080/"
        },
        "id": "FRH5cvTsm5Yx",
        "outputId": "f0101e8b-e750-424c-be5e-67ec1e2fc52c"
      },
      "outputs": [
        {
          "output_type": "stream",
          "name": "stdout",
          "text": [
            "Enter a Number to reverse: 45678\n",
            "87654"
          ]
        }
      ],
      "source": [
        "number = int(input(\"Enter a Number to reverse: \"))\n",
        "while number > 0:\n",
        "    print(number % 10, end=\"\")\n",
        "    number = number // 10\n"
      ]
    },
    {
      "cell_type": "markdown",
      "source": [
        "Q.2 Write a python program to check whether a number is palindrome or not?"
      ],
      "metadata": {
        "id": "cMnoXEUcqXum"
      }
    },
    {
      "cell_type": "code",
      "source": [
        "num = int(input(\"Enter a Number: \"))\n",
        "temp = num\n",
        "reverse = 0\n",
        "while num > 0:\n",
        "    reverse = (reverse * 10) + (num % 10)\n",
        "    num = num // 10\n",
        "if temp == reverse:\n",
        "    print(\"Number is Palindrome\")\n",
        "else:\n",
        "  print(\"Number is not Palindrome\")"
      ],
      "metadata": {
        "colab": {
          "base_uri": "https://localhost:8080/"
        },
        "id": "7QL68NMRrnFl",
        "outputId": "bfb58b5b-8063-417e-8b0c-4f7caba0bd1a"
      },
      "execution_count": null,
      "outputs": [
        {
          "output_type": "stream",
          "name": "stdout",
          "text": [
            "Enter a Number: 112211\n",
            "Number is Palindrome\n"
          ]
        }
      ]
    },
    {
      "cell_type": "markdown",
      "source": [
        "Q .3 Write a python program finding the factorial of a given number using a while loop."
      ],
      "metadata": {
        "id": "g3PLkHc0sehW"
      }
    },
    {
      "cell_type": "code",
      "source": [
        "def factorial(num):\n",
        "    fact = 1\n",
        "    while num > 0:\n",
        "        fact = fact * num\n",
        "        num = num - 1\n",
        "    return fact\n",
        "num = int(input(\"Enter a Number: \"))\n",
        "print(factorial(num))"
      ],
      "metadata": {
        "colab": {
          "base_uri": "https://localhost:8080/"
        },
        "id": "QNOGVlcbsmHF",
        "outputId": "63a2d473-eef3-4e6f-af20-fa2211b88259"
      },
      "execution_count": null,
      "outputs": [
        {
          "output_type": "stream",
          "name": "stdout",
          "text": [
            "Enter a Number: 4\n",
            "24\n"
          ]
        }
      ]
    },
    {
      "cell_type": "markdown",
      "source": [
        "Q.4 Accept numbers using input() function until the user enters 0. If user input 0 then break the while loop and display the sum of all the numbers."
      ],
      "metadata": {
        "id": "cZ7_TRwCtQaB"
      }
    },
    {
      "cell_type": "code",
      "source": [
        "sum = 0\n",
        "while True:\n",
        "    num = int(input(\"Enter a Number: \"))\n",
        "    if num == 0:\n",
        "        break\n",
        "    sum = sum + num\n",
        "print(\"The Sum is\",sum)"
      ],
      "metadata": {
        "colab": {
          "base_uri": "https://localhost:8080/"
        },
        "id": "NDzBsb-DtT6x",
        "outputId": "e43b0bc6-57e6-43d7-b76c-036fc8f0efed"
      },
      "execution_count": null,
      "outputs": [
        {
          "output_type": "stream",
          "name": "stdout",
          "text": [
            "Enter a Number: 10\n",
            "Enter a Number: 7\n",
            "Enter a Number: 18\n",
            "Enter a Number: 45\n",
            "Enter a Number: 0\n",
            "The Sum is 80\n"
          ]
        }
      ]
    }
  ]
}