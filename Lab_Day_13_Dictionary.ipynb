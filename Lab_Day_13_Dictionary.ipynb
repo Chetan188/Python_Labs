{
  "nbformat": 4,
  "nbformat_minor": 0,
  "metadata": {
    "colab": {
      "provenance": [],
      "authorship_tag": "ABX9TyONoX62s4zLF7lX7WlTpAII",
      "include_colab_link": true
    },
    "kernelspec": {
      "name": "python3",
      "display_name": "Python 3"
    },
    "language_info": {
      "name": "python"
    }
  },
  "cells": [
    {
      "cell_type": "markdown",
      "metadata": {
        "id": "view-in-github",
        "colab_type": "text"
      },
      "source": [
        "<a href=\"https://colab.research.google.com/github/Chetan188/Python_Labs/blob/main/Lab_Day_13_Dictionary.ipynb\" target=\"_parent\"><img src=\"https://colab.research.google.com/assets/colab-badge.svg\" alt=\"Open In Colab\"/></a>"
      ]
    },
    {
      "cell_type": "markdown",
      "source": [
        "Q.1 Write a Python program and calculate the mean of the below dictionary."
      ],
      "metadata": {
        "id": "EwmO2HA8k603"
      }
    },
    {
      "cell_type": "code",
      "execution_count": null,
      "metadata": {
        "colab": {
          "base_uri": "https://localhost:8080/"
        },
        "id": "mOCU5BNOii6J",
        "outputId": "dc3a7643-8a20-4454-efe5-df7bf6626229"
      },
      "outputs": [
        {
          "output_type": "stream",
          "name": "stdout",
          "text": [
            "6.2\n"
          ]
        }
      ],
      "source": [
        "test_dict = {\"A\":6,\"B:\":9,\"C\":5,\"D\":7,\"E\":4}\n",
        "mean=sum(test_dict.values())/len(test_dict)\n",
        "print(mean)"
      ]
    },
    {
      "cell_type": "markdown",
      "source": [
        "Q.2.Write a Python script to concatenate the following dictionaries to create a new one."
      ],
      "metadata": {
        "id": "fqBX3QqXk9ZW"
      }
    },
    {
      "cell_type": "code",
      "source": [
        "dic1 = {1:10,2:20}\n",
        "dic2={3:30,4:40}\n",
        "dic3={5:50,6:60}\n",
        "dic4={}\n",
        "for d in (dic1,dic2,dic3):\n",
        "    dic4.update(d)\n",
        "print(dic4)"
      ],
      "metadata": {
        "colab": {
          "base_uri": "https://localhost:8080/"
        },
        "id": "6lMPxHkbi2Ej",
        "outputId": "fa89de10-e094-47d4-ece6-9a5f8b5bbd52"
      },
      "execution_count": null,
      "outputs": [
        {
          "output_type": "stream",
          "name": "stdout",
          "text": [
            "{1: 10, 2: 20, 3: 30, 4: 40, 5: 50, 6: 60}\n"
          ]
        }
      ]
    },
    {
      "cell_type": "markdown",
      "source": [
        "Q.3.Write a Python program to get the key, value and item in a dictionary."
      ],
      "metadata": {
        "id": "nGrHnE1ZlCBc"
      }
    },
    {
      "cell_type": "code",
      "source": [
        "print(\"Keys:\",dic4.keys())\n",
        "print(\"Values\",dic4.values())\n",
        "print(\"Items\",dic4.items())"
      ],
      "metadata": {
        "colab": {
          "base_uri": "https://localhost:8080/"
        },
        "id": "o8QFGUKxjopC",
        "outputId": "d1170ef3-aeb3-4a53-ddf9-d149a377aaf4"
      },
      "execution_count": null,
      "outputs": [
        {
          "output_type": "stream",
          "name": "stdout",
          "text": [
            "Keys: dict_keys([1, 2, 3, 4, 5, 6])\n",
            "Values dict_values([10, 20, 30, 40, 50, 60])\n",
            "Items dict_items([(1, 10), (2, 20), (3, 30), (4, 40), (5, 50), (6, 60)])\n"
          ]
        }
      ]
    },
    {
      "cell_type": "markdown",
      "source": [
        "Q.4.Write a Python program to get the key, value and item in a dictionary."
      ],
      "metadata": {
        "id": "019GF6hPlFF2"
      }
    },
    {
      "cell_type": "code",
      "source": [
        "input_dict = {1: 10, 2: 20, 3:None, 4: 40, 5: None, 6: 60}\n",
        "\n",
        "for key, value in input_dict.items():\n",
        "  print(f\"Key: {key}, Value: {value}, Item: ({key}, {value})\")"
      ],
      "metadata": {
        "colab": {
          "base_uri": "https://localhost:8080/"
        },
        "id": "IW-JiMeukvzu",
        "outputId": "ba25cc4e-22db-4385-ca60-872b19bd2749"
      },
      "execution_count": null,
      "outputs": [
        {
          "output_type": "stream",
          "name": "stdout",
          "text": [
            "Key: 1, Value: 10, Item: (1, 10)\n",
            "Key: 2, Value: 20, Item: (2, 20)\n",
            "Key: 3, Value: None, Item: (3, None)\n",
            "Key: 4, Value: 40, Item: (4, 40)\n",
            "Key: 5, Value: None, Item: (5, None)\n",
            "Key: 6, Value: 60, Item: (6, 60)\n"
          ]
        }
      ]
    }
  ]
}