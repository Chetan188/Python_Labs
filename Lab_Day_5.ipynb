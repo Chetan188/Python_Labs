{
  "nbformat": 4,
  "nbformat_minor": 0,
  "metadata": {
    "colab": {
      "provenance": [],
      "authorship_tag": "ABX9TyP/SFj0cxgEZTsKoMNqxb4N",
      "include_colab_link": true
    },
    "kernelspec": {
      "name": "python3",
      "display_name": "Python 3"
    },
    "language_info": {
      "name": "python"
    }
  },
  "cells": [
    {
      "cell_type": "markdown",
      "metadata": {
        "id": "view-in-github",
        "colab_type": "text"
      },
      "source": [
        "<a href=\"https://colab.research.google.com/github/Chetan188/Python_Labs/blob/main/Lab_Day_5.ipynb\" target=\"_parent\"><img src=\"https://colab.research.google.com/assets/colab-badge.svg\" alt=\"Open In Colab\"/></a>"
      ]
    },
    {
      "cell_type": "markdown",
      "source": [
        "Q.1 Declare a div() function with two parameters, call the function, and display their division:"
      ],
      "metadata": {
        "id": "6CTvgykGZC0Z"
      }
    },
    {
      "cell_type": "code",
      "source": [
        "def div(a, b):\n",
        "    return a / b\n",
        "\n",
        "result = div(10, 2)\n",
        "print(\"Division Result:\", result)"
      ],
      "metadata": {
        "id": "cxgxmHR2ZJwU"
      },
      "execution_count": null,
      "outputs": []
    },
    {
      "cell_type": "markdown",
      "source": [
        "Q. 2 Declare a square() function with one parameter, call the function, and display the square of that number:"
      ],
      "metadata": {
        "id": "J2Co6b5QZinj"
      }
    },
    {
      "cell_type": "code",
      "source": [
        "def square(num):\n",
        "    return num ** 2\n",
        "\n",
        "square_result = square(5)\n",
        "print(\"Square Result:\", square_result)"
      ],
      "metadata": {
        "id": "cGrOUfLvZDvB",
        "colab": {
          "base_uri": "https://localhost:8080/"
        },
        "outputId": "441a7f05-b00d-462b-949b-653494d80211"
      },
      "execution_count": null,
      "outputs": [
        {
          "output_type": "stream",
          "name": "stdout",
          "text": [
            "Square Result: 25\n"
          ]
        }
      ]
    },
    {
      "cell_type": "markdown",
      "source": [
        "Q. 3  Using max() and min() functions, display the maximum and minimum of 5 random numbers:"
      ],
      "metadata": {
        "id": "AiEOVZYBaJDL"
      }
    },
    {
      "cell_type": "code",
      "source": [
        "import random\n",
        "\n",
        "random_numbers = [random.randint(1, 100) for _ in range(5)]\n",
        "print(\"Random Numbers:\", random_numbers)\n",
        "print(\"Maximum:\", max(random_numbers))\n",
        "print(\"Minimum:\", min(random_numbers))"
      ],
      "metadata": {
        "colab": {
          "base_uri": "https://localhost:8080/"
        },
        "id": "tywfbq_UadHF",
        "outputId": "eb9d803b-874a-48c0-8b17-a1bbe3cdb22d"
      },
      "execution_count": null,
      "outputs": [
        {
          "output_type": "stream",
          "name": "stdout",
          "text": [
            "Random Numbers: [36, 71, 74, 16, 13]\n",
            "Maximum: 74\n",
            "Minimum: 13\n"
          ]
        }
      ]
    },
    {
      "cell_type": "markdown",
      "source": [
        "Q. 4 Accept a name from the user and display it in lowercase using the lower() function:"
      ],
      "metadata": {
        "id": "zDaEU_s4a0gy"
      }
    },
    {
      "cell_type": "code",
      "source": [
        "name = input(\"Enter your name: \")\n",
        "print(\"Lowercase Name:\", name.lower())"
      ],
      "metadata": {
        "colab": {
          "base_uri": "https://localhost:8080/"
        },
        "id": "iRP1AJHia60W",
        "outputId": "8386a39f-62a0-489f-f0e5-200df4f11a10"
      },
      "execution_count": null,
      "outputs": [
        {
          "output_type": "stream",
          "name": "stdout",
          "text": [
            "Enter your name: Chetan Borase\n",
            "Lowercase Name: chetan borase\n"
          ]
        }
      ]
    }
  ]
}