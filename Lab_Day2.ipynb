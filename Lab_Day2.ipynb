{
  "nbformat": 4,
  "nbformat_minor": 0,
  "metadata": {
    "colab": {
      "provenance": [],
      "authorship_tag": "ABX9TyPY4j0IJsLVIGii3zbXpkPF",
      "include_colab_link": true
    },
    "kernelspec": {
      "name": "python3",
      "display_name": "Python 3"
    },
    "language_info": {
      "name": "python"
    }
  },
  "cells": [
    {
      "cell_type": "markdown",
      "metadata": {
        "id": "view-in-github",
        "colab_type": "text"
      },
      "source": [
        "<a href=\"https://colab.research.google.com/github/Chetan188/Python_Labs/blob/main/Lab_Day2.ipynb\" target=\"_parent\"><img src=\"https://colab.research.google.com/assets/colab-badge.svg\" alt=\"Open In Colab\"/></a>"
      ]
    },
    {
      "cell_type": "markdown",
      "source": [
        " Q.1 Calculate the multiplication and sum of two numbers"
      ],
      "metadata": {
        "id": "UtTVHjjKUKOK"
      }
    },
    {
      "cell_type": "code",
      "source": [
        "num1=10\n",
        "num2=14\n",
        "addition_result = num1+num2\n",
        "print(addition_result)\n",
        "multiplication_result = num1*num2\n",
        "print(multiplication_result)"
      ],
      "metadata": {
        "colab": {
          "base_uri": "https://localhost:8080/"
        },
        "id": "WBcVlEcPUPNO",
        "outputId": "ffcf40e0-f7e0-47c3-f083-6f774ded9ed5"
      },
      "execution_count": null,
      "outputs": [
        {
          "output_type": "stream",
          "name": "stdout",
          "text": [
            "24\n",
            "140\n"
          ]
        }
      ]
    },
    {
      "cell_type": "markdown",
      "source": [
        "Q2. Declare two variables and print that which variable is largest using ternary operators"
      ],
      "metadata": {
        "id": "sraxmOYmU0wv"
      }
    },
    {
      "cell_type": "code",
      "source": [
        "a=20\n",
        "b=30\n",
        "largest = a if a>b else b\n",
        "print(largest)\n"
      ],
      "metadata": {
        "colab": {
          "base_uri": "https://localhost:8080/"
        },
        "id": "hvqSZ678U8la",
        "outputId": "f4f3db9d-21bf-45e7-b4e2-f777ed9a239c"
      },
      "execution_count": null,
      "outputs": [
        {
          "output_type": "stream",
          "name": "stdout",
          "text": [
            "30\n"
          ]
        }
      ]
    },
    {
      "cell_type": "markdown",
      "source": [
        "Q.3 Python program to convert the temperature in degree centigrade to Fahrenheit"
      ],
      "metadata": {
        "id": "S8kNEw99VjRB"
      }
    },
    {
      "cell_type": "code",
      "source": [
        "def convert_to_fahrenheit(celsius):\n",
        "    fahrenheit = (celsius * 9/5) + 32\n",
        "    return fahrenheit\n",
        "\n",
        "celsius = 30\n",
        "fahrenheit = convert_to_fahrenheit(celsius)\n",
        "print(f\"{celsius} degrees Celsius is equal to {fahrenheit} degrees Fahrenheit.\")"
      ],
      "metadata": {
        "colab": {
          "base_uri": "https://localhost:8080/"
        },
        "id": "4Gx8DEzZU8az",
        "outputId": "f77e7b65-e2e2-4859-a77d-890f66961e27"
      },
      "execution_count": null,
      "outputs": [
        {
          "output_type": "stream",
          "name": "stdout",
          "text": [
            "30 degrees Celsius is equal to 86.0 degrees Fahrenheit.\n"
          ]
        }
      ]
    },
    {
      "cell_type": "markdown",
      "source": [
        "Q.4. Python program to find the area of a triangle whose sides are given"
      ],
      "metadata": {
        "id": "HKXp7VTlWZrE"
      }
    },
    {
      "cell_type": "code",
      "source": [
        "def calculate_triangle_area(a, b, c):\n",
        "    s = (a + b + c) / 2\n",
        "    return (s * (s - a) * (s - b) * (s - c)) ** 0.5\n",
        "\n",
        "a, b, c = 7, 8, 9\n",
        "area = calculate_triangle_area(a, b, c)\n",
        "print(f\"Area: {area:.2f} square units.\")\n"
      ],
      "metadata": {
        "colab": {
          "base_uri": "https://localhost:8080/"
        },
        "id": "NYCUUkRAWCnN",
        "outputId": "c19bf7e7-9234-4546-a5de-df9c7f941608"
      },
      "execution_count": null,
      "outputs": [
        {
          "output_type": "stream",
          "name": "stdout",
          "text": [
            "Area: 26.83 square units.\n"
          ]
        }
      ]
    }
  ]
}