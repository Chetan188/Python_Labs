{
  "nbformat": 4,
  "nbformat_minor": 0,
  "metadata": {
    "colab": {
      "provenance": [],
      "authorship_tag": "ABX9TyNUSb2uk9ioNhRHDaa7BalF",
      "include_colab_link": true
    },
    "kernelspec": {
      "name": "python3",
      "display_name": "Python 3"
    },
    "language_info": {
      "name": "python"
    }
  },
  "cells": [
    {
      "cell_type": "markdown",
      "metadata": {
        "id": "view-in-github",
        "colab_type": "text"
      },
      "source": [
        "<a href=\"https://colab.research.google.com/github/Chetan188/Python_Labs/blob/main/Lab_Day_3.ipynb\" target=\"_parent\"><img src=\"https://colab.research.google.com/assets/colab-badge.svg\" alt=\"Open In Colab\"/></a>"
      ]
    },
    {
      "cell_type": "markdown",
      "source": [
        "Q.1 Using input() function take one number from the user and using ternary operators check whether the number is even or odd"
      ],
      "metadata": {
        "id": "YkUPTHpufAyF"
      }
    },
    {
      "cell_type": "code",
      "source": [
        "num1=int(input(\"Enter the Number : \"))\n",
        "\n",
        "def evenOdd(num1):\n",
        "    if num1%2==0:\n",
        "        print(\"Number is Even\")\n",
        "    else:\n",
        "        print(\"Number is Odd\")\n",
        "evenOdd(num1)"
      ],
      "metadata": {
        "colab": {
          "base_uri": "https://localhost:8080/"
        },
        "id": "76im3dOVb7Po",
        "outputId": "a6f292f9-cf34-4c75-cc51-e82d01a7f199"
      },
      "execution_count": null,
      "outputs": [
        {
          "output_type": "stream",
          "name": "stdout",
          "text": [
            "Enter the Number : 45\n",
            "Number is Odd\n"
          ]
        }
      ]
    },
    {
      "cell_type": "markdown",
      "source": [
        "Q.2 Using input function take two number and then swap the number"
      ],
      "metadata": {
        "id": "sPHlxz0Ke8oJ"
      }
    },
    {
      "cell_type": "code",
      "source": [
        "num1=int(input(\"Enter the First Number: \"))\n",
        "num2=int(input(\"Enter the second number: \"))\n",
        "\n",
        "def swap(num1,num2):\n",
        "  temp=num1\n",
        "  num1=num2\n",
        "  num2=temp\n",
        "  return num1,num2\n",
        "print(\"Swapped numbers\",swap(num1,num2))"
      ],
      "metadata": {
        "colab": {
          "base_uri": "https://localhost:8080/"
        },
        "id": "pidDb_WrcjRf",
        "outputId": "9c7e0062-d335-48bb-ed5b-5b23fcacd075"
      },
      "execution_count": null,
      "outputs": [
        {
          "output_type": "stream",
          "name": "stdout",
          "text": [
            "Enter the First Number45\n",
            "Enter the second number18\n",
            "Swapped numbers (18, 45)\n"
          ]
        }
      ]
    },
    {
      "cell_type": "markdown",
      "source": [
        "Q.3 Write a Program to Convert Kilometers to Miles"
      ],
      "metadata": {
        "id": "qVrF5Lo0djcZ"
      }
    },
    {
      "cell_type": "code",
      "source": [
        "km=int(input(\"Enter the Kilometers\"))\n",
        "\n",
        "def kmToMiles(km):\n",
        "    miles=km*0.621371\n",
        "    return miles\n",
        "print(\"Miles\",kmToMiles(km))"
      ],
      "metadata": {
        "colab": {
          "base_uri": "https://localhost:8080/"
        },
        "id": "B2nu8KoAeALT",
        "outputId": "c134e4e5-6dde-4365-bdcc-52c9a8fb3f92"
      },
      "execution_count": null,
      "outputs": [
        {
          "output_type": "stream",
          "name": "stdout",
          "text": [
            "Enter the Kilometers50\n",
            "Miles 31.068550000000002\n"
          ]
        }
      ]
    },
    {
      "cell_type": "markdown",
      "source": [
        "Q.4Find the Simple Interest on Rs. 200 for 5 years at 5% per year."
      ],
      "metadata": {
        "id": "Pcrvq6QpewU5"
      }
    },
    {
      "cell_type": "code",
      "source": [
        "simpleInterest=200*5*0.05\n",
        "print(\"Simple Interest is\",simpleInterest)"
      ],
      "metadata": {
        "colab": {
          "base_uri": "https://localhost:8080/"
        },
        "id": "vMYMmeXmenrf",
        "outputId": "6d8022b5-27f6-4380-dbe9-afb0e2eee2e9"
      },
      "execution_count": null,
      "outputs": [
        {
          "output_type": "stream",
          "name": "stdout",
          "text": [
            "Simple Interest is 50.0\n"
          ]
        }
      ]
    },
    {
      "cell_type": "code",
      "source": [
        "b=int(input(\"First num : \"))\n",
        "c=int(input(\"second num: \"))\n",
        "\n",
        "def square(b,c):\n",
        "  return b**2,c**2\n",
        "\n",
        "print(\"Square of both are: \",   square(b,c))"
      ],
      "metadata": {
        "colab": {
          "base_uri": "https://localhost:8080/"
        },
        "id": "TU8GPt3QhUSq",
        "outputId": "14c3ae6b-8825-4de2-86be-0d6e5a852e42"
      },
      "execution_count": null,
      "outputs": [
        {
          "output_type": "stream",
          "name": "stdout",
          "text": [
            "First num : 40\n",
            "second num: 50\n",
            "Square of both are:  (1600, 2500)\n"
          ]
        }
      ]
    },
    {
      "cell_type": "code",
      "source": [],
      "metadata": {
        "id": "bnXzxMdAhnvH"
      },
      "execution_count": null,
      "outputs": []
    }
  ]
}