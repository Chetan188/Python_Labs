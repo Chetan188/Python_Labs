{
  "nbformat": 4,
  "nbformat_minor": 0,
  "metadata": {
    "colab": {
      "provenance": [],
      "authorship_tag": "ABX9TyNjHdeNktLqhGeVHQKXUfuZ",
      "include_colab_link": true
    },
    "kernelspec": {
      "name": "python3",
      "display_name": "Python 3"
    },
    "language_info": {
      "name": "python"
    }
  },
  "cells": [
    {
      "cell_type": "markdown",
      "metadata": {
        "id": "view-in-github",
        "colab_type": "text"
      },
      "source": [
        "<a href=\"https://colab.research.google.com/github/Chetan188/Python_Labs/blob/main/Lab_Day_7.ipynb\" target=\"_parent\"><img src=\"https://colab.research.google.com/assets/colab-badge.svg\" alt=\"Open In Colab\"/></a>"
      ]
    },
    {
      "cell_type": "markdown",
      "source": [
        "Q 1. Print the first 10 natural numbers using for loop"
      ],
      "metadata": {
        "id": "X2vnV5ecECiO"
      }
    },
    {
      "cell_type": "code",
      "execution_count": null,
      "metadata": {
        "colab": {
          "base_uri": "https://localhost:8080/"
        },
        "id": "GVeGmqfiEBtp",
        "outputId": "7e04c4d3-e2de-49d8-d8b7-79415048c8a3"
      },
      "outputs": [
        {
          "output_type": "stream",
          "name": "stdout",
          "text": [
            "1\n",
            "2\n",
            "3\n",
            "4\n",
            "5\n",
            "6\n",
            "7\n",
            "8\n",
            "9\n",
            "10\n"
          ]
        }
      ],
      "source": [
        "i=1\n",
        "for i in range(1,11):\n",
        "  print(i)"
      ]
    },
    {
      "cell_type": "markdown",
      "source": [
        "Q 2. Python program to check if the given string is a palindrome"
      ],
      "metadata": {
        "id": "XxmhNR1OEOxL"
      }
    },
    {
      "cell_type": "code",
      "source": [
        "def is_palindrome(string):\n",
        "    n = len(string)\n",
        "    for i in range(n // 2):\n",
        "        if string[i] != string[n - 1 - i]:\n",
        "            return False\n",
        "    return True\n",
        "\n",
        "string = input(\"Enter a string: \")\n",
        "\n",
        "if is_palindrome(string):\n",
        "    print(f\"'{string}' is a palindrome!\")\n",
        "else:\n",
        "    print(f\"'{string}' is not a palindrome.\")\n"
      ],
      "metadata": {
        "colab": {
          "base_uri": "https://localhost:8080/"
        },
        "id": "zN-w5drUFx0f",
        "outputId": "ec33fc2b-c994-46b0-a7bd-1c081375ce86"
      },
      "execution_count": null,
      "outputs": [
        {
          "output_type": "stream",
          "name": "stdout",
          "text": [
            "Enter a string: ababababa\n",
            "'ababababa' is a palindrome!\n"
          ]
        }
      ]
    },
    {
      "cell_type": "markdown",
      "source": [
        "Q 3. Python program to check if a given number is an Armstrong number"
      ],
      "metadata": {
        "id": "C1VY0zJmJQZN"
      }
    },
    {
      "cell_type": "code",
      "source": [
        "def armstrong_number(num):\n",
        "    num_str = str(num)\n",
        "    n = len(num_str)\n",
        "    sum = 0\n",
        "    for digit in num_str:\n",
        "        sum += int(digit) ** n\n",
        "    if sum == num:\n",
        "        return True\n",
        "    return False\n",
        "\n",
        "num = int(input(\"Enter a number: \"))\n",
        "\n",
        "if armstrong_number(num):\n",
        "    print(f\"{num} is an Armstrong number!\")\n",
        "else:\n",
        "    print(f\"{num} is not an Armstrong number.\")"
      ],
      "metadata": {
        "colab": {
          "base_uri": "https://localhost:8080/"
        },
        "id": "eMAUceALJaJs",
        "outputId": "fcbbd357-b561-40d5-c77c-7cb55c612c28"
      },
      "execution_count": null,
      "outputs": [
        {
          "output_type": "stream",
          "name": "stdout",
          "text": [
            "Enter a number: 153\n",
            "153 is an Armstrong number!\n"
          ]
        }
      ]
    },
    {
      "cell_type": "markdown",
      "source": [
        "Q 4. Python program to get the Fibonacci series between 0 to 50"
      ],
      "metadata": {
        "id": "dmQfXL14KTCA"
      }
    },
    {
      "cell_type": "code",
      "source": [
        "a, b = 0, 1\n",
        "\n",
        "print(\"Fibonacci series between 0 and 50:\")\n",
        "for _ in range(50):\n",
        "    if a > 50:\n",
        "        break\n",
        "    print(a, end=\" \")\n",
        "    a, b = b, a + b\n"
      ],
      "metadata": {
        "colab": {
          "base_uri": "https://localhost:8080/"
        },
        "id": "BXQw4fBSKWLW",
        "outputId": "de5e9b2f-2e28-4f53-c3e7-312d6c58cea0"
      },
      "execution_count": null,
      "outputs": [
        {
          "output_type": "stream",
          "name": "stdout",
          "text": [
            "Fibonacci series between 0 and 50:\n",
            "0 1 1 2 3 5 8 13 21 34 "
          ]
        }
      ]
    },
    {
      "cell_type": "markdown",
      "source": [
        "Q 5. Python program to check the validity of password input by users"
      ],
      "metadata": {
        "id": "v1zIJJK6KWji"
      }
    },
    {
      "cell_type": "code",
      "source": [
        "def validate_password(password):\n",
        "    has_upper = has_lower = has_digit = has_special = False\n",
        "    special_characters = \"!@#$%^&*(),.?\\\":{}|<>\"\n",
        "\n",
        "    for char in password:\n",
        "        if char.isupper():\n",
        "            has_upper = True\n",
        "        elif char.islower():\n",
        "            has_lower = True\n",
        "        elif char.isdigit():\n",
        "            has_digit = True\n",
        "        elif char in special_characters:\n",
        "            has_special = True\n",
        "\n",
        "    if len(password) < 8:\n",
        "        return \"Password must be at least 8 characters long\"\n",
        "    if not (has_upper and has_lower and has_digit and has_special):\n",
        "        return \"Password must contain uppercase, lowercase, digit, and special character\"\n",
        "    return \"Password is valid\"\n",
        "\n",
        "password = input(\"Enter your password: \")\n",
        "print(validate_password(password))\n"
      ],
      "metadata": {
        "colab": {
          "base_uri": "https://localhost:8080/"
        },
        "id": "rquICthlKZzN",
        "outputId": "60d03cd9-83ab-4673-f011-f2534c1b29d4"
      },
      "execution_count": null,
      "outputs": [
        {
          "output_type": "stream",
          "name": "stdout",
          "text": [
            "Enter your password: Pass@123\n",
            "Password is valid\n"
          ]
        }
      ]
    }
  ]
}