{
  "nbformat": 4,
  "nbformat_minor": 0,
  "metadata": {
    "colab": {
      "provenance": [],
      "authorship_tag": "ABX9TyMz+UT/EkbKOlrVbtD4Ovu4",
      "include_colab_link": true
    },
    "kernelspec": {
      "name": "python3",
      "display_name": "Python 3"
    },
    "language_info": {
      "name": "python"
    }
  },
  "cells": [
    {
      "cell_type": "markdown",
      "metadata": {
        "id": "view-in-github",
        "colab_type": "text"
      },
      "source": [
        "<a href=\"https://colab.research.google.com/github/Chetan188/Python_Labs/blob/main/Lab_Day_10.ipynb\" target=\"_parent\"><img src=\"https://colab.research.google.com/assets/colab-badge.svg\" alt=\"Open In Colab\"/></a>"
      ]
    },
    {
      "cell_type": "markdown",
      "source": [
        "Q.1. Write a function in python to read the content from a text file \"ABC.txt\" line by line and display the same on screen."
      ],
      "metadata": {
        "id": "z4ZT7Le3ktaY"
      }
    },
    {
      "cell_type": "code",
      "source": [
        "def read_file(file_path):\n",
        "    with open(file_path, 'r') as file:\n",
        "        for line in file:\n",
        "            print(line.strip())\n",
        "\n",
        "read_file(\"/content/sample_data/ABC.txt\")\n"
      ],
      "metadata": {
        "id": "SSZf9gmFxsu8",
        "colab": {
          "base_uri": "https://localhost:8080/"
        },
        "outputId": "c976a7e7-bc21-4fc4-fc59-b9078d18743e"
      },
      "execution_count": null,
      "outputs": [
        {
          "output_type": "stream",
          "name": "stdout",
          "text": [
            "Hello 123\n",
            "Hello 345\n"
          ]
        }
      ]
    },
    {
      "cell_type": "markdown",
      "source": [
        "Q.2. Write a function in Python to count and display the total number of words in a text file “ABC.txt”"
      ],
      "metadata": {
        "id": "FkD5UZ4ck5I_"
      }
    },
    {
      "cell_type": "code",
      "source": [
        "def count_words(filepath):\n",
        "  with open(filepath, 'r') as file:\n",
        "    content = file.read()\n",
        "    words = content.split()\n",
        "    return len(words)\n",
        "\n",
        "word_count = count_words(\"/content/sample_data/ABC.txt\")\n",
        "print(\"Total number of words:\", word_count)"
      ],
      "metadata": {
        "colab": {
          "base_uri": "https://localhost:8080/"
        },
        "id": "YwtkN3bXEAW5",
        "outputId": "4ff7fc06-d66b-4799-af04-dd67ca2143f7"
      },
      "execution_count": null,
      "outputs": [
        {
          "output_type": "stream",
          "name": "stdout",
          "text": [
            "Total number of words: 4\n"
          ]
        }
      ]
    },
    {
      "cell_type": "markdown",
      "source": [
        "Q.3. Write a function in Python to count uppercase character in a text file “ABC.txt”"
      ],
      "metadata": {
        "id": "fPmv8bOolCwv"
      }
    },
    {
      "cell_type": "code",
      "source": [
        "def count_uppercase_chars(file_path):\n",
        "  count = 0\n",
        "  with open(file_path, 'r') as file:\n",
        "    for line in file:\n",
        "      for char in line:\n",
        "        if char.isupper():\n",
        "          count += 1\n",
        "  return count\n",
        "\n",
        "uppercase_count = count_uppercase_chars(\"/content/sample_data/ABC.txt\")\n",
        "print(f\"Number of uppercase characters: {uppercase_count}\")"
      ],
      "metadata": {
        "id": "rFZypH26lJ_8",
        "colab": {
          "base_uri": "https://localhost:8080/"
        },
        "outputId": "e3f7fec2-1d7f-4298-b13c-f985b2922728"
      },
      "execution_count": null,
      "outputs": [
        {
          "output_type": "stream",
          "name": "stdout",
          "text": [
            "Number of uppercase characters: 2\n"
          ]
        }
      ]
    },
    {
      "cell_type": "markdown",
      "source": [
        "Q.4. Write a function display_words() in python to read lines from a text file \"story.txt\", and display those words, which are less than 4 characters."
      ],
      "metadata": {
        "id": "smuA28KNlLSs"
      }
    },
    {
      "cell_type": "code",
      "source": [
        "def display_words():\n",
        "    with open(\"/content/story.txt\", \"r\") as file:\n",
        "        for line in file:\n",
        "            words = line.split()\n",
        "            for word in words:\n",
        "                if len(word) < 4:\n",
        "                 print(word)\n",
        "display_words()"
      ],
      "metadata": {
        "id": "FhqxeHwalOjO",
        "colab": {
          "base_uri": "https://localhost:8080/"
        },
        "outputId": "7e66e42d-fee2-4971-c1ce-cd1018e666e6"
      },
      "execution_count": null,
      "outputs": [
        {
          "output_type": "stream",
          "name": "stdout",
          "text": [
            "to\n",
            "is\n",
            "if\n",
            "def\n"
          ]
        }
      ]
    }
  ]
}