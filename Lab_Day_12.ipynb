{
  "nbformat": 4,
  "nbformat_minor": 0,
  "metadata": {
    "colab": {
      "provenance": [],
      "authorship_tag": "ABX9TyPupa0zHLUX+0/ddXmSDhHW",
      "include_colab_link": true
    },
    "kernelspec": {
      "name": "python3",
      "display_name": "Python 3"
    },
    "language_info": {
      "name": "python"
    }
  },
  "cells": [
    {
      "cell_type": "markdown",
      "metadata": {
        "id": "view-in-github",
        "colab_type": "text"
      },
      "source": [
        "<a href=\"https://colab.research.google.com/github/Chetan188/Python_Labs/blob/main/Lab_Day_12.ipynb\" target=\"_parent\"><img src=\"https://colab.research.google.com/assets/colab-badge.svg\" alt=\"Open In Colab\"/></a>"
      ]
    },
    {
      "cell_type": "markdown",
      "source": [
        "Q.1. Write a Python program to sum all the items in a list."
      ],
      "metadata": {
        "id": "cKz8a2prWWzE"
      }
    },
    {
      "cell_type": "code",
      "execution_count": null,
      "metadata": {
        "colab": {
          "base_uri": "https://localhost:8080/"
        },
        "id": "l5ZObVVIWFW3",
        "outputId": "a4922242-5338-46b3-a524-917867ad46de"
      },
      "outputs": [
        {
          "output_type": "stream",
          "name": "stdout",
          "text": [
            "15\n"
          ]
        }
      ],
      "source": [
        "list1 = [1,2,3,4,5]\n",
        "sum = 0\n",
        "for i in list1:\n",
        "    sum = sum + i\n",
        "print(sum)"
      ]
    },
    {
      "cell_type": "markdown",
      "source": [
        "Q. 2. Write a Python program to get the largest and smallest number from a list without builtin functions."
      ],
      "metadata": {
        "id": "O2oHK9JVWfUm"
      }
    },
    {
      "cell_type": "code",
      "source": [
        "def largest_num(list1):\n",
        "    max = list1[0]\n",
        "    for i in list1:\n",
        "        if i > max:\n",
        "            max = i\n",
        "    return max\n",
        "def smallest_num(list1):\n",
        "    min = list1[0]\n",
        "    for i in list1:\n",
        "        if i < min:\n",
        "            min = i\n",
        "    return min\n",
        "list1 = [4,5,7,2,9,87,36,26,47,52,74,15]\n",
        "print(largest_num(list1))\n",
        "print(smallest_num(list1))"
      ],
      "metadata": {
        "colab": {
          "base_uri": "https://localhost:8080/"
        },
        "id": "yeyV9oLAWeK7",
        "outputId": "7ed8b557-a858-4406-cc69-3b69670d45cf"
      },
      "execution_count": null,
      "outputs": [
        {
          "output_type": "stream",
          "name": "stdout",
          "text": [
            "87\n",
            "2\n"
          ]
        }
      ]
    },
    {
      "cell_type": "markdown",
      "source": [
        "Q.3. Write a Python program to find duplicate values from a list and display those."
      ],
      "metadata": {
        "id": "CBwITOXMXRVK"
      }
    },
    {
      "cell_type": "code",
      "source": [
        "list1 = [1, 2, 3, 4, 4, 5, 5, 6, 1]\n",
        "duplicates = []\n",
        "for i in range(len(list1)):\n",
        "    for j in range(i + 1, len(list1)):\n",
        "        if list1[i] == list1[j] and list1[i] not in duplicates:\n",
        "            duplicates.append(list1[i])\n",
        "duplicates"
      ],
      "metadata": {
        "colab": {
          "base_uri": "https://localhost:8080/"
        },
        "id": "V34xUg1tdfK5",
        "outputId": "68e2dfc4-0588-4dd6-d6fa-f6d6f03f388f"
      },
      "execution_count": null,
      "outputs": [
        {
          "output_type": "execute_result",
          "data": {
            "text/plain": [
              "[1, 4, 5]"
            ]
          },
          "metadata": {},
          "execution_count": 20
        }
      ]
    },
    {
      "cell_type": "markdown",
      "source": [
        "Q.4. Write a Python program to split a given list into two parts where the length of the first part of the list is given.\n",
        "\n"
      ],
      "metadata": {
        "id": "HZKpD1kPevOG"
      }
    },
    {
      "cell_type": "code",
      "source": [
        "org_list = [1,1,2,3,4,4,5,1]\n",
        "a=len(org_list)\n",
        "print(org_list[:a//2])\n",
        "print(org_list[a//2:])"
      ],
      "metadata": {
        "colab": {
          "base_uri": "https://localhost:8080/"
        },
        "id": "92xjXLYQekYz",
        "outputId": "17e6cee5-e298-4d93-b57b-82c8d14da012"
      },
      "execution_count": null,
      "outputs": [
        {
          "output_type": "stream",
          "name": "stdout",
          "text": [
            "[1, 1, 2, 3]\n",
            "[4, 4, 5, 1]\n"
          ]
        }
      ]
    },
    {
      "cell_type": "markdown",
      "source": [
        "Q.5. Write a Python program to traverse a given list in reverse order, and print the elements with the original index. Original list: ['red', 'green', 'white', 'black']"
      ],
      "metadata": {
        "id": "TDserF_KfPtv"
      }
    },
    {
      "cell_type": "code",
      "source": [
        "org_list = ['red', 'green', 'white', 'black']\n",
        "org_list.reverse()\n",
        "for i in range(len(org_list)):\n",
        "    print(i, org_list[i])"
      ],
      "metadata": {
        "colab": {
          "base_uri": "https://localhost:8080/"
        },
        "id": "nfY2wQAWe9zZ",
        "outputId": "bda7c410-2cff-4d09-9be8-f4e4537072a8"
      },
      "execution_count": null,
      "outputs": [
        {
          "output_type": "stream",
          "name": "stdout",
          "text": [
            "0 black\n",
            "1 white\n",
            "2 green\n",
            "3 red\n"
          ]
        }
      ]
    }
  ]
}