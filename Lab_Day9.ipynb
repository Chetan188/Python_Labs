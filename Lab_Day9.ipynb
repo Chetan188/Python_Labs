{
  "nbformat": 4,
  "nbformat_minor": 0,
  "metadata": {
    "colab": {
      "provenance": [],
      "authorship_tag": "ABX9TyNVeg/hr05BKKOsnuhq7Pki",
      "include_colab_link": true
    },
    "kernelspec": {
      "name": "python3",
      "display_name": "Python 3"
    },
    "language_info": {
      "name": "python"
    }
  },
  "cells": [
    {
      "cell_type": "markdown",
      "metadata": {
        "id": "view-in-github",
        "colab_type": "text"
      },
      "source": [
        "<a href=\"https://colab.research.google.com/github/Chetan188/Python_Labs/blob/main/Lab_Day9.ipynb\" target=\"_parent\"><img src=\"https://colab.research.google.com/assets/colab-badge.svg\" alt=\"Open In Colab\"/></a>"
      ]
    },
    {
      "cell_type": "markdown",
      "source": [
        "Q 1. Write a Python program to Count all letters, digits, and special symbols from the given string"
      ],
      "metadata": {
        "id": "OUp-f6MKpKMz"
      }
    },
    {
      "cell_type": "code",
      "execution_count": null,
      "metadata": {
        "colab": {
          "base_uri": "https://localhost:8080/"
        },
        "id": "_Zarsmhvm4NY",
        "outputId": "41a40ea0-61c9-452d-9b3e-d16fcbf49302"
      },
      "outputs": [
        {
          "output_type": "stream",
          "name": "stdout",
          "text": [
            "Chars = 8 Digits = 3 Symbol = 4\n"
          ]
        }
      ],
      "source": [
        "def count_characters(input_string):\n",
        "    chars = 0\n",
        "    digits = 0\n",
        "    symbols = 0\n",
        "\n",
        "    for char in input_string:\n",
        "        if char.isalpha():\n",
        "            chars += 1\n",
        "        elif char.isdigit():\n",
        "            digits += 1\n",
        "        else:\n",
        "            symbols += 1\n",
        "\n",
        "    return chars, digits, symbols\n",
        "\n",
        "\n",
        "input_string = \"P@#yn26at^&i5ve\"\n",
        "chars, digits, symbols = count_characters(input_string)\n",
        "\n",
        "print(f\"Chars = {chars} Digits = {digits} Symbol = {symbols}\")\n"
      ]
    },
    {
      "cell_type": "markdown",
      "source": [
        "Q 2. Write a Python program to remove duplicate characters of a given string."
      ],
      "metadata": {
        "id": "vIqqUc2aqMcW"
      }
    },
    {
      "cell_type": "code",
      "source": [
        "input_string = \"String and String Function\"\n",
        "words = input_string.split()\n",
        "result = \"\"\n",
        "\n",
        "for word in words:\n",
        "    if word not in result:\n",
        "        result += word + \" \"\n",
        "print(result)\n"
      ],
      "metadata": {
        "colab": {
          "base_uri": "https://localhost:8080/"
        },
        "id": "3ALJvoyGqNRE",
        "outputId": "c2a37e1c-8c49-4569-ce52-aed6f7940881"
      },
      "execution_count": null,
      "outputs": [
        {
          "output_type": "stream",
          "name": "stdout",
          "text": [
            "String and Function \n"
          ]
        }
      ]
    },
    {
      "cell_type": "markdown",
      "source": [
        "Q.3  Write a Python program to count Uppercase, Lowercase, special character and numeric values in a given string"
      ],
      "metadata": {
        "id": "Z_QYgtpus_At"
      }
    },
    {
      "cell_type": "code",
      "source": [
        "input_string = \"Hell0 W0rld ! 123 * # welcome to pYtHoN\"\n",
        "\n",
        "upper_case = 0\n",
        "lower_case = 0\n",
        "number_case = 0\n",
        "special_case = 0\n",
        "\n",
        "for char in input_string:\n",
        "    if char.isupper():\n",
        "        upper_case += 1\n",
        "    elif char.islower():\n",
        "        lower_case += 1\n",
        "    elif char.isdigit():\n",
        "        number_case += 1\n",
        "    else:\n",
        "        special_case += 1\n",
        "\n",
        "print(\"UpperCase:\", upper_case)\n",
        "print(\"LowerCase:\", lower_case)\n",
        "print(\"NumberCase:\", number_case)\n",
        "print(\"SpecialCase:\", special_case)\n"
      ],
      "metadata": {
        "colab": {
          "base_uri": "https://localhost:8080/"
        },
        "id": "VBfZj3XFs-DJ",
        "outputId": "0b00fd42-7105-4e46-d0aa-fff9d61c16ed"
      },
      "execution_count": null,
      "outputs": [
        {
          "output_type": "stream",
          "name": "stdout",
          "text": [
            "UpperCase: 5\n",
            "LowerCase: 18\n",
            "NumberCase: 5\n",
            "SpecialCase: 11\n"
          ]
        }
      ]
    },
    {
      "cell_type": "markdown",
      "source": [
        "Q4. Write a Python Count vowels in a string"
      ],
      "metadata": {
        "id": "pfA5Pb_Ts9vw"
      }
    },
    {
      "cell_type": "code",
      "source": [
        "input_string = \"Welcome to Python Assignment\"\n",
        "vowels = \"aeiouAEIOU\"\n",
        "vowel_count = 0\n",
        "\n",
        "for char in input_string:\n",
        "    if char in vowels:\n",
        "        vowel_count += 1\n",
        "\n",
        "print(\"Total vowels are:\", vowel_count)\n"
      ],
      "metadata": {
        "colab": {
          "base_uri": "https://localhost:8080/"
        },
        "id": "SGXwdWmMtKcp",
        "outputId": "93dcc118-15ab-402e-f485-920b22dd516e"
      },
      "execution_count": null,
      "outputs": [
        {
          "output_type": "stream",
          "name": "stdout",
          "text": [
            "Total vowels are: 8\n"
          ]
        }
      ]
    }
  ]
}